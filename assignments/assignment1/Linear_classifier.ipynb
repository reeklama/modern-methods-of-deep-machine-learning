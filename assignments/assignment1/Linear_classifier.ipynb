{
  "cells": [
    {
      "cell_type": "markdown",
      "metadata": {
        "id": "view-in-github",
        "colab_type": "text"
      },
      "source": [
        "<a href=\"https://colab.research.google.com/github/reeklama/modern-methods-of-deep-machine-learning/blob/master/Linear_classifier.ipynb\" target=\"_parent\"><img src=\"https://colab.research.google.com/assets/colab-badge.svg\" alt=\"Open In Colab\"/></a>"
      ]
    },
    {
      "cell_type": "markdown",
      "metadata": {
        "id": "mWlHVDQFPtZP"
      },
      "source": [
        "# Задание 1.2 - Линейный классификатор (Linear classifier)\n",
        "\n",
        "В этом задании мы реализуем другую модель машинного обучения - линейный классификатор. Линейный классификатор подбирает для каждого класса веса, на которые нужно умножить значение каждого признака и потом сложить вместе.\n",
        "Тот класс, у которого эта сумма больше, и является предсказанием модели.\n",
        "\n",
        "В этом задании вы:\n",
        "- потренируетесь считать градиенты различных многомерных функций\n",
        "- реализуете подсчет градиентов через линейную модель и функцию потерь softmax\n",
        "- реализуете процесс тренировки линейного классификатора\n",
        "- подберете параметры тренировки на практике\n",
        "\n",
        "На всякий случай, еще раз ссылка на туториал по numpy:  \n",
        "http://cs231n.github.io/python-numpy-tutorial/"
      ]
    },
    {
      "cell_type": "code",
      "execution_count": 1,
      "metadata": {
        "colab": {
          "base_uri": "https://localhost:8080/"
        },
        "id": "9sVY3_sxP7AF",
        "outputId": "a0972b36-055d-4a05-ff87-0c89e7732a62"
      },
      "outputs": [
        {
          "output_type": "stream",
          "name": "stdout",
          "text": [
            "Cloning into 'modern-methods-of-deep-machine-learning'...\n",
            "remote: Enumerating objects: 427, done.\u001b[K\n",
            "remote: Counting objects: 100% (70/70), done.\u001b[K\n",
            "remote: Compressing objects: 100% (70/70), done.\u001b[K\n",
            "remote: Total 427 (delta 47), reused 0 (delta 0), pack-reused 357\u001b[K\n",
            "Receiving objects: 100% (427/427), 847.61 KiB | 5.11 MiB/s, done.\n",
            "Resolving deltas: 100% (212/212), done.\n"
          ]
        }
      ],
      "source": [
        "!git clone https://github.com/reeklama/modern-methods-of-deep-machine-learning.git"
      ]
    },
    {
      "cell_type": "code",
      "execution_count": 2,
      "metadata": {
        "id": "Ve3wesTEPtZR"
      },
      "outputs": [],
      "source": [
        "import numpy as np\n",
        "import matplotlib.pyplot as plt\n",
        "\n",
        "%matplotlib inline\n",
        "\n",
        "%load_ext autoreload\n",
        "%autoreload 2"
      ]
    },
    {
      "cell_type": "code",
      "execution_count": 3,
      "metadata": {
        "colab": {
          "base_uri": "https://localhost:8080/"
        },
        "id": "xHKkxbq0QUuy",
        "outputId": "c728d7ce-abcc-4be7-d782-6d86e785d930"
      },
      "outputs": [
        {
          "output_type": "stream",
          "name": "stdout",
          "text": [
            "--2022-04-10 20:10:00--  http://ufldl.stanford.edu/housenumbers/train_32x32.mat\n",
            "Resolving ufldl.stanford.edu (ufldl.stanford.edu)... 171.64.68.10\n",
            "Connecting to ufldl.stanford.edu (ufldl.stanford.edu)|171.64.68.10|:80... connected.\n",
            "HTTP request sent, awaiting response... 200 OK\n",
            "Length: 182040794 (174M) [text/plain]\n",
            "Saving to: ‘train_32x32.mat’\n",
            "\n",
            "train_32x32.mat     100%[===================>] 173.61M  12.2MB/s    in 17s     \n",
            "\n",
            "2022-04-10 20:10:17 (10.2 MB/s) - ‘train_32x32.mat’ saved [182040794/182040794]\n",
            "\n",
            "--2022-04-10 20:10:17--  http://ufldl.stanford.edu/housenumbers/test_32x32.mat\n",
            "Reusing existing connection to ufldl.stanford.edu:80.\n",
            "HTTP request sent, awaiting response... 200 OK\n",
            "Length: 64275384 (61M) [text/plain]\n",
            "Saving to: ‘test_32x32.mat’\n",
            "\n",
            "test_32x32.mat      100%[===================>]  61.30M  13.0MB/s    in 4.7s    \n",
            "\n",
            "2022-04-10 20:10:22 (13.2 MB/s) - ‘test_32x32.mat’ saved [64275384/64275384]\n",
            "\n",
            "FINISHED --2022-04-10 20:10:22--\n",
            "Total wall clock time: 22s\n",
            "Downloaded: 2 files, 235M in 22s (10.9 MB/s)\n"
          ]
        }
      ],
      "source": [
        "!/content/modern-methods-of-deep-machine-learning/assignments/assignment1/download_data.sh "
      ]
    },
    {
      "cell_type": "code",
      "execution_count": 4,
      "metadata": {
        "colab": {
          "base_uri": "https://localhost:8080/"
        },
        "id": "pr7o2t-lQeL1",
        "outputId": "145504de-2ccb-402a-ee53-9427dde2891f"
      },
      "outputs": [
        {
          "output_type": "stream",
          "name": "stdout",
          "text": [
            "Requirement already satisfied: numpy in /usr/local/lib/python3.7/dist-packages (from -r /content/modern-methods-of-deep-machine-learning/assignments/assignment1/requirements.txt (line 1)) (1.21.5)\n",
            "Requirement already satisfied: matplotlib in /usr/local/lib/python3.7/dist-packages (from -r /content/modern-methods-of-deep-machine-learning/assignments/assignment1/requirements.txt (line 2)) (3.2.2)\n",
            "Requirement already satisfied: scipy in /usr/local/lib/python3.7/dist-packages (from -r /content/modern-methods-of-deep-machine-learning/assignments/assignment1/requirements.txt (line 3)) (1.4.1)\n",
            "Requirement already satisfied: python-dateutil>=2.1 in /usr/local/lib/python3.7/dist-packages (from matplotlib->-r /content/modern-methods-of-deep-machine-learning/assignments/assignment1/requirements.txt (line 2)) (2.8.2)\n",
            "Requirement already satisfied: kiwisolver>=1.0.1 in /usr/local/lib/python3.7/dist-packages (from matplotlib->-r /content/modern-methods-of-deep-machine-learning/assignments/assignment1/requirements.txt (line 2)) (1.4.0)\n",
            "Requirement already satisfied: pyparsing!=2.0.4,!=2.1.2,!=2.1.6,>=2.0.1 in /usr/local/lib/python3.7/dist-packages (from matplotlib->-r /content/modern-methods-of-deep-machine-learning/assignments/assignment1/requirements.txt (line 2)) (3.0.7)\n",
            "Requirement already satisfied: cycler>=0.10 in /usr/local/lib/python3.7/dist-packages (from matplotlib->-r /content/modern-methods-of-deep-machine-learning/assignments/assignment1/requirements.txt (line 2)) (0.11.0)\n",
            "Requirement already satisfied: typing-extensions in /usr/local/lib/python3.7/dist-packages (from kiwisolver>=1.0.1->matplotlib->-r /content/modern-methods-of-deep-machine-learning/assignments/assignment1/requirements.txt (line 2)) (3.10.0.2)\n",
            "Requirement already satisfied: six>=1.5 in /usr/local/lib/python3.7/dist-packages (from python-dateutil>=2.1->matplotlib->-r /content/modern-methods-of-deep-machine-learning/assignments/assignment1/requirements.txt (line 2)) (1.15.0)\n"
          ]
        }
      ],
      "source": [
        "!pip install -r /content/modern-methods-of-deep-machine-learning/assignments/assignment1/requirements.txt"
      ]
    },
    {
      "cell_type": "code",
      "execution_count": 5,
      "metadata": {
        "id": "6Xmv1S4HQiyA"
      },
      "outputs": [],
      "source": [
        "!cp /content/modern-methods-of-deep-machine-learning/assignments/assignment1/* ."
      ]
    },
    {
      "cell_type": "code",
      "execution_count": 6,
      "metadata": {
        "id": "kwOfaL9APtZS"
      },
      "outputs": [],
      "source": [
        "from dataset import load_svhn, random_split_train_val\n",
        "from gradient_check import check_gradient\n",
        "from metrics import multiclass_accuracy \n",
        "import linear_classifer"
      ]
    },
    {
      "cell_type": "markdown",
      "metadata": {
        "id": "EGdl1bgEPtZT"
      },
      "source": [
        "# Как всегда, первым делом загружаем данные\n",
        "\n",
        "Мы будем использовать все тот же SVHN."
      ]
    },
    {
      "cell_type": "code",
      "execution_count": 7,
      "metadata": {
        "colab": {
          "base_uri": "https://localhost:8080/"
        },
        "id": "Sur_aLBFPtZT",
        "outputId": "47d24479-222a-4fb2-83e4-baf4bf86823f"
      },
      "outputs": [
        {
          "output_type": "stream",
          "name": "stderr",
          "text": [
            ""
          ]
        }
      ],
      "source": [
        "def prepare_for_linear_classifier(train_X, test_X):\n",
        "    train_flat = train_X.reshape(train_X.shape[0], -1).astype(np.float) / 255.0\n",
        "    test_flat = test_X.reshape(test_X.shape[0], -1).astype(np.float) / 255.0\n",
        "    \n",
        "    # Subtract mean\n",
        "    mean_image = np.mean(train_flat, axis = 0)\n",
        "    train_flat -= mean_image\n",
        "    test_flat -= mean_image\n",
        "    \n",
        "    # Add another channel with ones as a bias term\n",
        "    train_flat_with_ones = np.hstack([train_flat, np.ones((train_X.shape[0], 1))])\n",
        "    test_flat_with_ones = np.hstack([test_flat, np.ones((test_X.shape[0], 1))])    \n",
        "    return train_flat_with_ones, test_flat_with_ones\n",
        "    \n",
        "train_X, train_y, test_X, test_y = load_svhn(\"data\", max_train=10000, max_test=1000)    \n",
        "train_X, test_X = prepare_for_linear_classifier(train_X, test_X)\n",
        "# Split train into train and val\n",
        "train_X, train_y, val_X, val_y = random_split_train_val(train_X, train_y, num_val = 1000)"
      ]
    },
    {
      "cell_type": "markdown",
      "metadata": {
        "id": "Y9s7w-6lPtZT"
      },
      "source": [
        "# Играемся с градиентами!\n",
        "\n",
        "В этом курсе мы будем писать много функций, которые вычисляют градиенты аналитическим методом.\n",
        "\n",
        "Все функции, в которых мы будем вычислять градиенты, будут написаны по одной и той же схеме.  \n",
        "Они будут получать на вход точку, где нужно вычислить значение и градиент функции, а на выходе будут выдавать кортеж (tuple) из двух значений - собственно значения функции в этой точке (всегда одно число) и аналитического значения градиента в той же точке (той же размерности, что и вход).\n",
        "```\n",
        "def f(x):\n",
        "    \"\"\"\n",
        "    Computes function and analytic gradient at x\n",
        "    \n",
        "    x: np array of float, input to the function\n",
        "    \n",
        "    Returns:\n",
        "    value: float, value of the function \n",
        "    grad: np array of float, same shape as x\n",
        "    \"\"\"\n",
        "    ...\n",
        "    \n",
        "    return value, grad\n",
        "```\n",
        "\n",
        "Необходимым инструментом во время реализации кода, вычисляющего градиенты, является функция его проверки. Эта функция вычисляет градиент численным методом и сверяет результат с градиентом, вычисленным аналитическим методом.\n",
        "\n",
        "Мы начнем с того, чтобы реализовать вычисление численного градиента (numeric gradient) в функции `check_gradient` в `gradient_check.py`. Эта функция будет принимать на вход функции формата, заданного выше, использовать значение `value` для вычисления численного градиента и сравнит его с аналитическим - они должны сходиться.\n",
        "\n",
        "Напишите часть функции, которая вычисляет градиент с помощью численной производной для каждой координаты. Для вычисления производной используйте так называемую two-point formula (https://en.wikipedia.org/wiki/Numerical_differentiation):\n",
        "\n",
        "![image](https://wikimedia.org/api/rest_v1/media/math/render/svg/22fc2c0a66c63560a349604f8b6b39221566236d)\n",
        "\n",
        "Все функции приведенные в следующей клетке должны проходить gradient check."
      ]
    },
    {
      "cell_type": "code",
      "execution_count": 8,
      "metadata": {
        "colab": {
          "base_uri": "https://localhost:8080/"
        },
        "id": "MKL2Kdj8PtZU",
        "outputId": "ec8f06b7-7e09-4ee9-9491-a5a5c5f5068a",
        "scrolled": true
      },
      "outputs": [
        {
          "output_type": "stream",
          "name": "stdout",
          "text": [
            "Gradient check passed!\n",
            "Gradient check passed!\n",
            "Gradient check passed!\n"
          ]
        },
        {
          "output_type": "execute_result",
          "data": {
            "text/plain": [
              "True"
            ]
          },
          "metadata": {},
          "execution_count": 8
        }
      ],
      "source": [
        "# TODO: Implement check_gradient function in gradient_check.py\n",
        "# All the functions below should pass the gradient check\n",
        "\n",
        "def square(x):\n",
        "    return float(x*x), 2*x\n",
        "\n",
        "check_gradient(square, np.array([3.0]))\n",
        "\n",
        "def array_sum(x):\n",
        "    assert x.shape == (2,), x.shape\n",
        "    return np.sum(x), np.ones_like(x)\n",
        "\n",
        "check_gradient(array_sum, np.array([3.0, 2.0]))\n",
        "\n",
        "def array_2d_sum(x):\n",
        "    assert x.shape == (2,2)\n",
        "    return np.sum(x), np.ones_like(x)\n",
        "\n",
        "check_gradient(array_2d_sum, np.array([[3.0, 2.0], [1.0, 0.0]]))"
      ]
    },
    {
      "cell_type": "markdown",
      "metadata": {
        "id": "v6Dlq2mEPtZU"
      },
      "source": [
        "## Начинаем писать свои функции, считающие аналитический градиент\n",
        "\n",
        "Теперь реализуем функцию softmax, которая получает на вход оценки для каждого класса и преобразует их в вероятности от 0 до 1:\n",
        "![image](https://wikimedia.org/api/rest_v1/media/math/render/svg/e348290cf48ddbb6e9a6ef4e39363568b67c09d3)\n",
        "\n",
        "**Важно:** Практический аспект вычисления этой функции заключается в том, что в ней учавствует вычисление экспоненты от потенциально очень больших чисел - это может привести к очень большим значениям в числителе и знаменателе за пределами диапазона float.\n",
        "\n",
        "К счастью, у этой проблемы есть простое решение -- перед вычислением softmax вычесть из всех оценок максимальное значение среди всех оценок:\n",
        "```\n",
        "predictions -= np.max(predictions)\n",
        "```\n",
        "(подробнее здесь - http://cs231n.github.io/linear-classify/#softmax, секция `Practical issues: Numeric stability`)"
      ]
    },
    {
      "cell_type": "code",
      "execution_count": 9,
      "metadata": {
        "id": "5lWbkncXPtZV"
      },
      "outputs": [],
      "source": [
        "# TODO Implement softmax and cross-entropy for single sample\n",
        "probs = linear_classifer.softmax(np.array([-10, 0, 10]))\n",
        "\n",
        "# Make sure it works for big numbers too!\n",
        "probs = linear_classifer.softmax(np.array([1000, 0, 0]))\n",
        "assert np.isclose(probs[0], 1.0)"
      ]
    },
    {
      "cell_type": "markdown",
      "metadata": {
        "id": "VP0KVOJCPtZV"
      },
      "source": [
        "Кроме этого, мы реализуем cross-entropy loss, которую мы будем использовать как функцию ошибки (error function).\n",
        "В общем виде cross-entropy определена следующим образом:\n",
        "![image](https://wikimedia.org/api/rest_v1/media/math/render/svg/0cb6da032ab424eefdca0884cd4113fe578f4293)\n",
        "\n",
        "где x - все классы, p(x) - истинная вероятность принадлежности сэмпла классу x, а q(x) - вероятность принадлежности классу x, предсказанная моделью.  \n",
        "В нашем случае сэмпл принадлежит только одному классу, индекс которого передается функции. Для него p(x) равна 1, а для остальных классов - 0. \n",
        "\n",
        "Это позволяет реализовать функцию проще!"
      ]
    },
    {
      "cell_type": "code",
      "execution_count": 10,
      "metadata": {
        "colab": {
          "base_uri": "https://localhost:8080/"
        },
        "id": "e5lQ3XnbPtZV",
        "outputId": "53c1aea0-ba17-48e7-9fca-e339380b344b"
      },
      "outputs": [
        {
          "output_type": "execute_result",
          "data": {
            "text/plain": [
              "5.006760443547122"
            ]
          },
          "metadata": {},
          "execution_count": 10
        }
      ],
      "source": [
        "probs = linear_classifer.softmax(np.array([-5, 0, 5]))\n",
        "linear_classifer.cross_entropy_loss(probs, 1)"
      ]
    },
    {
      "cell_type": "markdown",
      "metadata": {
        "id": "gKeIlCx6PtZW"
      },
      "source": [
        "После того как мы реализовали сами функции, мы можем реализовать градиент.\n",
        "\n",
        "Оказывается, что вычисление градиента становится гораздо проще, если объединить эти функции в одну, которая сначала вычисляет вероятности через softmax, а потом использует их для вычисления функции ошибки через cross-entropy loss.\n",
        "\n",
        "Эта функция `softmax_with_cross_entropy` будет возвращает и значение ошибки, и градиент по входным параметрам. Мы проверим корректность реализации с помощью `check_gradient`."
      ]
    },
    {
      "cell_type": "code",
      "execution_count": 11,
      "metadata": {
        "colab": {
          "base_uri": "https://localhost:8080/"
        },
        "id": "dJXNqH1aPtZW",
        "outputId": "fd6ec197-0032-4925-97d1-577f1e9e853d"
      },
      "outputs": [
        {
          "output_type": "stream",
          "name": "stdout",
          "text": [
            "Gradient check passed!\n"
          ]
        },
        {
          "output_type": "execute_result",
          "data": {
            "text/plain": [
              "True"
            ]
          },
          "metadata": {},
          "execution_count": 11
        }
      ],
      "source": [
        "# TODO Implement combined function or softmax and cross entropy and produces gradient\n",
        "loss, grad = linear_classifer.softmax_with_cross_entropy(np.array([1, 0, 0]), 1)\n",
        "check_gradient(lambda x: linear_classifer.softmax_with_cross_entropy(x, 1), np.array([1, 0, 0], float))"
      ]
    },
    {
      "cell_type": "markdown",
      "metadata": {
        "id": "RqM79LTOPtZW"
      },
      "source": [
        "В качестве метода тренировки мы будем использовать стохастический градиентный спуск (stochastic gradient descent или SGD), который работает с батчами сэмплов. \n",
        "\n",
        "Поэтому все наши фукнции будут получать не один пример, а батч, то есть входом будет не вектор из `num_classes` оценок, а матрица размерности `batch_size, num_classes`. Индекс примера в батче всегда будет первым измерением.\n",
        "\n",
        "Следующий шаг - переписать наши функции так, чтобы они поддерживали батчи.\n",
        "\n",
        "Финальное значение функции ошибки должно остаться числом, и оно равно среднему значению ошибки среди всех примеров в батче."
      ]
    },
    {
      "cell_type": "code",
      "execution_count": 12,
      "metadata": {
        "colab": {
          "base_uri": "https://localhost:8080/"
        },
        "id": "7SPuv3JQPtZW",
        "outputId": "80755318-92cc-4cf3-98bd-c11adced011c",
        "scrolled": false
      },
      "outputs": [
        {
          "output_type": "stream",
          "name": "stdout",
          "text": [
            "Gradient check passed!\n",
            "Gradient check passed!\n"
          ]
        }
      ],
      "source": [
        "# TODO Extend combined function so it can receive a 2d array with batch of samples\n",
        "np.random.seed(42)\n",
        "# Test batch_size = 1\n",
        "num_classes = 4\n",
        "batch_size = 1\n",
        "predictions = np.random.randint(-1, 3, size=(batch_size, num_classes)).astype(float)\n",
        "target_index = np.random.randint(0, num_classes, size=(batch_size, 1)).astype(int)\n",
        "check_gradient(lambda x: linear_classifer.softmax_with_cross_entropy(x, target_index), predictions)\n",
        "\n",
        "# Test batch_size = 3\n",
        "num_classes = 4\n",
        "batch_size = 3\n",
        "predictions = np.random.randint(-1, 3, size=(batch_size, num_classes)).astype(float)\n",
        "target_index = np.random.randint(0, num_classes, size=(batch_size, 1)).astype(int)\n",
        "check_gradient(lambda x: linear_classifer.softmax_with_cross_entropy(x, target_index), predictions)\n",
        "\n",
        "# Make sure maximum subtraction for numberic stability is done separately for every sample in the batch\n",
        "probs = linear_classifer.softmax(np.array([[20,0,0], [1000, 0, 0]]))\n",
        "assert np.all(np.isclose(probs[:, 0], 1.0))"
      ]
    },
    {
      "cell_type": "markdown",
      "metadata": {
        "id": "RzrrxyqaPtZW"
      },
      "source": [
        "### Наконец, реализуем сам линейный классификатор!\n",
        "\n",
        "softmax и cross-entropy получают на вход оценки, которые выдает линейный классификатор.\n",
        "\n",
        "Он делает это очень просто: для каждого класса есть набор весов, на которые надо умножить пиксели картинки и сложить. Получившееся число и является оценкой класса, идущей на вход softmax.\n",
        "\n",
        "Таким образом, линейный классификатор можно представить как умножение вектора с пикселями на матрицу W размера `num_features, num_classes`. Такой подход легко расширяется на случай батча векторов с пикселями X размера `batch_size, num_features`:\n",
        "\n",
        "`predictions = X * W`, где `*` - матричное умножение.\n",
        "\n",
        "Реализуйте функцию подсчета линейного классификатора и градиентов по весам `linear_softmax` в файле `linear_classifer.py`"
      ]
    },
    {
      "cell_type": "code",
      "execution_count": 13,
      "metadata": {
        "colab": {
          "base_uri": "https://localhost:8080/"
        },
        "id": "O9AEalrCPtZW",
        "outputId": "bae69aa1-e9b1-4dc2-edda-4a7ec6bc1537"
      },
      "outputs": [
        {
          "output_type": "stream",
          "name": "stdout",
          "text": [
            "Gradient check passed!\n"
          ]
        },
        {
          "output_type": "execute_result",
          "data": {
            "text/plain": [
              "True"
            ]
          },
          "metadata": {},
          "execution_count": 13
        }
      ],
      "source": [
        "# TODO Implement linear_softmax function that uses softmax with cross-entropy for linear classifier\n",
        "batch_size = 2\n",
        "num_classes = 2\n",
        "num_features = 3\n",
        "np.random.seed(42)\n",
        "W = np.random.randint(-1, 3, size=(num_features, num_classes)).astype(float)\n",
        "X = np.random.randint(-1, 3, size=(batch_size, num_features)).astype(float)\n",
        "target_index = np.ones(batch_size, dtype=int)\n",
        "\n",
        "loss, dW = linear_classifer.linear_softmax(X, W, target_index)\n",
        "check_gradient(lambda w: linear_classifer.linear_softmax(X, w, target_index), W)"
      ]
    },
    {
      "cell_type": "markdown",
      "metadata": {
        "id": "FSF1KLblPtZX"
      },
      "source": [
        "### И теперь регуляризация\n",
        "\n",
        "Мы будем использовать L2 regularization для весов как часть общей функции ошибки.\n",
        "\n",
        "Напомним, L2 regularization определяется как\n",
        "\n",
        "l2_reg_loss = regularization_strength * sum<sub>ij</sub> W[i, j]<sup>2</sup>\n",
        "\n",
        "Реализуйте функцию для его вычисления и вычисления соотвествующих градиентов."
      ]
    },
    {
      "cell_type": "code",
      "execution_count": 14,
      "metadata": {
        "colab": {
          "base_uri": "https://localhost:8080/"
        },
        "id": "w3vTzBpCPtZX",
        "outputId": "c3379606-1696-44e2-8ee7-ce417357ac6d"
      },
      "outputs": [
        {
          "output_type": "stream",
          "name": "stdout",
          "text": [
            "Gradient check passed!\n"
          ]
        },
        {
          "output_type": "execute_result",
          "data": {
            "text/plain": [
              "True"
            ]
          },
          "metadata": {},
          "execution_count": 14
        }
      ],
      "source": [
        "# TODO Implement l2_regularization function that implements loss for L2 regularization\n",
        "linear_classifer.l2_regularization(W, 0.01)\n",
        "check_gradient(lambda w: linear_classifer.l2_regularization(w, 0.01), W)"
      ]
    },
    {
      "cell_type": "markdown",
      "metadata": {
        "id": "xmb-sRCVPtZX"
      },
      "source": [
        "# Тренировка!"
      ]
    },
    {
      "cell_type": "markdown",
      "metadata": {
        "id": "2MHcH-EVPtZX"
      },
      "source": [
        "Градиенты в порядке, реализуем процесс тренировки!"
      ]
    },
    {
      "cell_type": "code",
      "execution_count": 15,
      "metadata": {
        "colab": {
          "base_uri": "https://localhost:8080/"
        },
        "id": "lOwIF0tHPtZX",
        "scrolled": false,
        "outputId": "f0673756-5afc-461b-d0c2-050750f1dc14"
      },
      "outputs": [
        {
          "output_type": "stream",
          "name": "stdout",
          "text": [
            "Epoch 0, loss: 898.952293\n",
            "Epoch 1, loss: 816.194774\n",
            "Epoch 2, loss: 891.429815\n",
            "Epoch 3, loss: 814.898675\n",
            "Epoch 4, loss: 929.844823\n",
            "Epoch 5, loss: 865.632208\n",
            "Epoch 6, loss: 931.091506\n",
            "Epoch 7, loss: 1013.350902\n",
            "Epoch 8, loss: 914.784839\n",
            "Epoch 9, loss: 813.284659\n"
          ]
        }
      ],
      "source": [
        "# TODO: Implement LinearSoftmaxClassifier.fit function\n",
        "classifier = linear_classifer.LinearSoftmaxClassifier()\n",
        "loss_history = classifier.fit(train_X, train_y, epochs=10, learning_rate=1e-3, batch_size=300, reg=1e1)"
      ]
    },
    {
      "cell_type": "code",
      "execution_count": 16,
      "metadata": {
        "id": "jD1i9fs0PtZX",
        "colab": {
          "base_uri": "https://localhost:8080/",
          "height": 282
        },
        "outputId": "e940f8c4-e012-40f3-f7ce-7ca874a3a219"
      },
      "outputs": [
        {
          "output_type": "execute_result",
          "data": {
            "text/plain": [
              "[<matplotlib.lines.Line2D at 0x7f79b00cf350>]"
            ]
          },
          "metadata": {},
          "execution_count": 16
        },
        {
          "output_type": "display_data",
          "data": {
            "text/plain": [
              "<Figure size 432x288 with 1 Axes>"
            ],
            "image/png": "[encoded data removed]"
          },
          "metadata": {
            "needs_background": "light"
          }
        }
      ],
      "source": [
        "# let's look at the loss history!\n",
        "plt.plot(loss_history)"
      ]
    },
    {
      "cell_type": "code",
      "execution_count": 17,
      "metadata": {
        "id": "e_L87MTnPtZX",
        "colab": {
          "base_uri": "https://localhost:8080/"
        },
        "outputId": "91a6545b-c084-4969-99ee-dfc71444bf7a"
      },
      "outputs": [
        {
          "output_type": "stream",
          "name": "stdout",
          "text": [
            "Accuracy:  0.15\n",
            "Epoch 0, loss: 944.903286\n",
            "Epoch 1, loss: 749.665666\n",
            "Epoch 2, loss: 998.808337\n",
            "Epoch 3, loss: 856.117335\n",
            "Epoch 4, loss: 967.788841\n",
            "Epoch 5, loss: 776.844931\n",
            "Epoch 6, loss: 715.805885\n",
            "Epoch 7, loss: 886.629020\n",
            "Epoch 8, loss: 825.677675\n",
            "Epoch 9, loss: 841.382084\n",
            "Accuracy after training for 100 epochs:  0.174\n"
          ]
        }
      ],
      "source": [
        "# Let's check how it performs on validation set\n",
        "pred = classifier.predict(val_X)\n",
        "accuracy = multiclass_accuracy(pred, val_y)\n",
        "print(\"Accuracy: \", accuracy)\n",
        "\n",
        "# Now, let's train more and see if it performs better\n",
        "classifier.fit(train_X, train_y, epochs=10, learning_rate=1e-3, batch_size=300, reg=1e1)\n",
        "pred = classifier.predict(val_X)\n",
        "accuracy = multiclass_accuracy(pred, val_y)\n",
        "print(\"Accuracy after training for 100 epochs: \", accuracy)"
      ]
    },
    {
      "cell_type": "markdown",
      "metadata": {
        "id": "aLYSu_biPtZY"
      },
      "source": [
        "### Как и раньше, используем кросс-валидацию для подбора гиперпараметтов.\n",
        "\n",
        "В этот раз, чтобы тренировка занимала разумное время, мы будем использовать только одно разделение на тренировочные (training) и проверочные (validation) данные.\n",
        "\n",
        "Теперь нам нужно подобрать не один, а два гиперпараметра! Не ограничивайте себя изначальными значениями в коде.  \n",
        "Добейтесь точности более чем **20%** на проверочных данных (validation data)."
      ]
    },
    {
      "cell_type": "code",
      "execution_count": 18,
      "metadata": {
        "id": "h2j2MvC5PtZY",
        "colab": {
          "base_uri": "https://localhost:8080/"
        },
        "outputId": "96c18cc2-1ad2-4f34-9a83-d6cb4f2dbf24"
      },
      "outputs": [
        {
          "output_type": "stream",
          "name": "stdout",
          "text": [
            "Epoch 0, loss: 813.442272\n",
            "Epoch 1, loss: 868.216247\n",
            "Epoch 2, loss: 1038.725698\n",
            "Epoch 3, loss: 930.034074\n",
            "Epoch 4, loss: 837.238805\n",
            "Epoch 5, loss: 867.623149\n",
            "Epoch 6, loss: 680.024473\n",
            "Epoch 7, loss: 852.569047\n",
            "Epoch 8, loss: 845.757047\n",
            "Epoch 9, loss: 819.855517\n",
            "Accuracy after training for 100 epochs:  0.165\n",
            "Epoch 0, loss: 744.653795\n",
            "Epoch 1, loss: 860.777861\n",
            "Epoch 2, loss: 710.693302\n",
            "Epoch 3, loss: 766.583419\n",
            "Epoch 4, loss: 780.926010\n",
            "Epoch 5, loss: 781.817908\n",
            "Epoch 6, loss: 893.342419\n",
            "Epoch 7, loss: 704.229475\n",
            "Epoch 8, loss: 931.798677\n",
            "Epoch 9, loss: 888.861638\n",
            "Accuracy after training for 100 epochs:  0.193\n",
            "Epoch 0, loss: 699.799146\n",
            "Epoch 1, loss: 743.529770\n",
            "Epoch 2, loss: 937.302340\n",
            "Epoch 3, loss: 802.034244\n",
            "Epoch 4, loss: 790.642515\n",
            "Epoch 5, loss: 794.093544\n",
            "Epoch 6, loss: 741.087332\n",
            "Epoch 7, loss: 720.701123\n",
            "Epoch 8, loss: 734.175173\n",
            "Epoch 9, loss: 751.239669\n",
            "Accuracy after training for 100 epochs:  0.195\n",
            "Epoch 0, loss: 598.785051\n",
            "Epoch 1, loss: 634.062905\n",
            "Epoch 2, loss: 631.496348\n",
            "Epoch 3, loss: 609.760721\n",
            "Epoch 4, loss: 631.213010\n",
            "Epoch 5, loss: 628.131894\n",
            "Epoch 6, loss: 609.218087\n",
            "Epoch 7, loss: 620.540906\n",
            "Epoch 8, loss: 617.443068\n",
            "Epoch 9, loss: 630.968597\n",
            "Accuracy after training for 100 epochs:  0.251\n",
            "Epoch 0, loss: 620.110182\n",
            "Epoch 1, loss: 620.362587\n",
            "Epoch 2, loss: 631.601354\n",
            "Epoch 3, loss: 615.784171\n",
            "Epoch 4, loss: 608.339611\n",
            "Epoch 5, loss: 609.243194\n",
            "Epoch 6, loss: 632.122110\n",
            "Epoch 7, loss: 631.547503\n",
            "Epoch 8, loss: 605.244766\n",
            "Epoch 9, loss: 615.460382\n",
            "Accuracy after training for 100 epochs:  0.259\n",
            "Epoch 0, loss: 588.794689\n",
            "Epoch 1, loss: 612.685329\n",
            "Epoch 2, loss: 606.588346\n",
            "Epoch 3, loss: 597.658170\n",
            "Epoch 4, loss: 618.799769\n",
            "Epoch 5, loss: 614.165342\n",
            "Epoch 6, loss: 607.595238\n",
            "Epoch 7, loss: 613.669413\n",
            "Epoch 8, loss: 596.312329\n",
            "Epoch 9, loss: 613.647500\n",
            "Accuracy after training for 100 epochs:  0.249\n",
            "Epoch 0, loss: 611.955720\n",
            "Epoch 1, loss: 599.256070\n",
            "Epoch 2, loss: 603.257208\n",
            "Epoch 3, loss: 584.245916\n",
            "Epoch 4, loss: 612.028838\n",
            "Epoch 5, loss: 594.553678\n",
            "Epoch 6, loss: 599.184411\n",
            "Epoch 7, loss: 599.313755\n",
            "Epoch 8, loss: 625.240560\n",
            "Epoch 9, loss: 616.649885\n",
            "Accuracy after training for 100 epochs:  0.251\n",
            "Epoch 0, loss: 609.585316\n",
            "Epoch 1, loss: 612.379317\n",
            "Epoch 2, loss: 606.854139\n",
            "Epoch 3, loss: 634.463913\n",
            "Epoch 4, loss: 604.981605\n",
            "Epoch 5, loss: 613.279817\n",
            "Epoch 6, loss: 616.574831\n",
            "Epoch 7, loss: 617.664781\n",
            "Epoch 8, loss: 611.069138\n",
            "Epoch 9, loss: 609.846201\n",
            "Accuracy after training for 100 epochs:  0.251\n",
            "Epoch 0, loss: 601.459034\n",
            "Epoch 1, loss: 624.013213\n",
            "Epoch 2, loss: 622.253925\n",
            "Epoch 3, loss: 600.519320\n",
            "Epoch 4, loss: 610.665492\n",
            "Epoch 5, loss: 610.497477\n",
            "Epoch 6, loss: 611.775385\n",
            "Epoch 7, loss: 590.496593\n",
            "Epoch 8, loss: 620.475780\n",
            "Epoch 9, loss: 616.379604\n",
            "Accuracy after training for 100 epochs:  0.249\n",
            "best validation accuracy achieved: 0.259000\n"
          ]
        }
      ],
      "source": [
        "num_epochs = 10\n",
        "batch_size = 30\n",
        "\n",
        "learning_rates = [1e-3, 1e-4, 1e-5]\n",
        "reg_strengths = [1e-4, 1e-5, 1e-6]\n",
        "\n",
        "best_classifier = None\n",
        "best_val_accuracy = 0\n",
        "best_loss_history = None\n",
        "\n",
        "# TODO use validation set to find the best hyperparameters\n",
        "# hint: for best results, you might need to try more values for learning rate and regularization strength \n",
        "# than provided initially\n",
        "for rate in learning_rates:\n",
        "    for reg in reg_strengths:\n",
        "        loss_history = classifier.fit(train_X, train_y, epochs=10, learning_rate=rate, batch_size=300, reg=reg)\n",
        "        pred = classifier.predict(val_X)\n",
        "        accuracy = multiclass_accuracy(pred, val_y)\n",
        "        if accuracy > best_val_accuracy:\n",
        "            best_val_accuracy = accuracy\n",
        "            best_classifier = classifier\n",
        "            best_loss_history = loss_history\n",
        "        print(\"Accuracy after training for 100 epochs: \", accuracy)\n",
        "        \n",
        "\n",
        "print('best validation accuracy achieved: %f' % best_val_accuracy)"
      ]
    },
    {
      "cell_type": "markdown",
      "metadata": {
        "id": "VR0V2W78PtZY"
      },
      "source": [
        "# Какой же точности мы добились на тестовых данных?"
      ]
    },
    {
      "cell_type": "code",
      "execution_count": 19,
      "metadata": {
        "id": "s_cslrd0PtZY",
        "colab": {
          "base_uri": "https://localhost:8080/"
        },
        "outputId": "1106fdb3-069a-4983-abc3-30cb56670992"
      },
      "outputs": [
        {
          "output_type": "stream",
          "name": "stdout",
          "text": [
            "Linear softmax classifier test set accuracy: 0.209000\n"
          ]
        }
      ],
      "source": [
        "test_pred = best_classifier.predict(test_X)\n",
        "test_accuracy = multiclass_accuracy(test_pred, test_y)\n",
        "print('Linear softmax classifier test set accuracy: %f' % (test_accuracy, ))"
      ]
    }
  ],
  "metadata": {
    "colab": {
      "collapsed_sections": [],
      "name": "Linear classifier.ipynb",
      "provenance": [],
      "include_colab_link": true
    },
    "kernelspec": {
      "display_name": "Python 3",
      "language": "python",
      "name": "python3"
    },
    "language_info": {
      "codemirror_mode": {
        "name": "ipython",
        "version": 3
      },
      "file_extension": ".py",
      "mimetype": "text/x-python",
      "name": "python",
      "nbconvert_exporter": "python",
      "pygments_lexer": "ipython3",
      "version": "3.7.0"
    }
  },
  "nbformat": 4,
  "nbformat_minor": 0
}
